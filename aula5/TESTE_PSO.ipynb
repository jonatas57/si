{
 "cells": [
  {
   "cell_type": "code",
   "execution_count": null,
   "metadata": {
    "colab": {},
    "colab_type": "code",
    "collapsed": true,
    "id": "N65ZDvsuwTVz"
   },
   "outputs": [],
   "source": []
  },
  {
   "cell_type": "markdown",
   "metadata": {
    "colab_type": "text",
    "id": "YbNDg5rSwURB"
   },
   "source": [
    "# Sistemas Inteligentes\n",
    "## Laboratório 5 - EXEMPLO DE PSO COM O DEAP\n",
    "\n",
    "\n",
    "https://deap.readthedocs.io/en/master/examples/pso_basic.html\n",
    "\n",
    "https://github.com/DEAP/deap/commit/c0743adb82237ba81340512e9f83748fb3b3b6c3\n",
    "\n",
    "https://deap.readthedocs.io/en/master/api/benchmarks.html"
   ]
  },
  {
   "cell_type": "code",
   "execution_count": 3,
   "metadata": {
    "colab": {},
    "colab_type": "code",
    "collapsed": true,
    "id": "LWh83IL1wW3m"
   },
   "outputs": [],
   "source": [
    "#    This file is part of DEAP.\n",
    "#\n",
    "#    DEAP is free software: you can redistribute it and/or modify\n",
    "#    it under the terms of the GNU Lesser General Public License as\n",
    "#    published by the Free Software Foundation, either version 3 of\n",
    "#    the License, or (at your option) any later version.\n",
    "#\n",
    "#    DEAP is distributed in the hope that it will be useful,\n",
    "#    but WITHOUT ANY WARRANTY; without even the implied warranty of\n",
    "#    MERCHANTABILITY or FITNESS FOR A PARTICULAR PURPOSE. See the\n",
    "#    GNU Lesser General Public License for more details.\n",
    "#\n",
    "#    You should have received a copy of the GNU Lesser General Public\n",
    "#    License along with DEAP. If not, see <http://www.gnu.org/licenses/>."
   ]
  },
  {
   "cell_type": "markdown",
   "metadata": {
    "colab_type": "text",
    "id": "jSuGcWP8iuko"
   },
   "source": [
    "Importação das bibliotecas necessárias para a execução da prática."
   ]
  },
  {
   "cell_type": "code",
   "execution_count": 4,
   "metadata": {
    "colab": {},
    "colab_type": "code",
    "collapsed": true,
    "id": "ofmUnfS-wbh3"
   },
   "outputs": [],
   "source": [
    "import operator\n",
    "import random\n",
    "\n",
    "import numpy\n",
    "import matplotlib.pyplot as plt\n",
    "\n",
    "from deap import base\n",
    "from deap import benchmarks\n",
    "from deap import creator\n",
    "from deap import tools"
   ]
  },
  {
   "cell_type": "markdown",
   "metadata": {
    "colab_type": "text",
    "id": "cqnTE-KUi3Je"
   },
   "source": [
    "Criação da estrutura de uma partícula."
   ]
  },
  {
   "cell_type": "code",
   "execution_count": 5,
   "metadata": {
    "colab": {},
    "colab_type": "code",
    "collapsed": true,
    "id": "kncumXeBwfL9"
   },
   "outputs": [],
   "source": [
    "creator.create(\"FitnessMax\", base.Fitness, weights=(1.0,))\n",
    "creator.create(\"Particle\", list, fitness=creator.FitnessMax, speed=list, \n",
    "    smin=None, smax=None, best=None)"
   ]
  },
  {
   "cell_type": "markdown",
   "metadata": {
    "colab_type": "text",
    "id": "EQuGKsnSjWMc"
   },
   "source": [
    "Criação do enxame composto por várias partículas inicializadas aleatoriamente."
   ]
  },
  {
   "cell_type": "code",
   "execution_count": 6,
   "metadata": {
    "colab": {},
    "colab_type": "code",
    "collapsed": true,
    "id": "orR3_YiVwizn"
   },
   "outputs": [],
   "source": [
    "def generate(size, pmin, pmax, smin, smax):\n",
    "    part = creator.Particle(random.uniform(pmin, pmax) for _ in range(size)) \n",
    "    part.speed = [random.uniform(smin, smax) for _ in range(size)]\n",
    "    part.smin = smin\n",
    "    part.smax = smax\n",
    "    return part"
   ]
  },
  {
   "cell_type": "markdown",
   "metadata": {
    "colab_type": "text",
    "id": "uatLrCFdjrNb"
   },
   "source": [
    "Atualização das partículas."
   ]
  },
  {
   "cell_type": "code",
   "execution_count": 7,
   "metadata": {
    "colab": {},
    "colab_type": "code",
    "collapsed": true,
    "id": "VXyKTScQwmz1"
   },
   "outputs": [],
   "source": [
    "def updateParticle(part, best, phi1, phi2):\n",
    "    u1 = (random.uniform(0, phi1) for _ in range(len(part)))\n",
    "    u2 = (random.uniform(0, phi2) for _ in range(len(part)))\n",
    "    v_u1 = map(operator.mul, u1, map(operator.sub, part.best, part))\n",
    "    v_u2 = map(operator.mul, u2, map(operator.sub, best, part))\n",
    "    part.speed = list(map(operator.add, part.speed, map(operator.add, v_u1, v_u2)))\n",
    "    for i, speed in enumerate(part.speed):\n",
    "        if speed < part.smin:\n",
    "            part.speed[i] = part.smin\n",
    "        elif speed > part.smax:\n",
    "            part.speed[i] = part.smax\n",
    "    part[:] = list(map(operator.add, part, part.speed))"
   ]
  },
  {
   "cell_type": "markdown",
   "metadata": {
    "colab_type": "text",
    "id": "aCkVuywGkA2d"
   },
   "source": [
    "Definição dos parâmetros do algoritmo e do problema que será otimizado."
   ]
  },
  {
   "cell_type": "code",
   "execution_count": 8,
   "metadata": {
    "colab": {},
    "colab_type": "code",
    "collapsed": true,
    "id": "dpqedQH9wm80"
   },
   "outputs": [],
   "source": [
    "toolbox = base.Toolbox()\n",
    "toolbox.register(\"particle\", generate, size=2, pmin=-20, pmax=20, smin=-3, smax=3)\n",
    "toolbox.register(\"population\", tools.initRepeat, list, toolbox.particle)\n",
    "toolbox.register(\"update\", updateParticle, phi1=2.0, phi2=2.0)\n",
    "toolbox.register(\"evaluate\", benchmarks.sphere)"
   ]
  },
  {
   "cell_type": "markdown",
   "metadata": {
    "colab_type": "text",
    "id": "qXJmE_W8j3ZF"
   },
   "source": [
    "Laço iterativo principal."
   ]
  },
  {
   "cell_type": "code",
   "execution_count": 9,
   "metadata": {
    "colab": {},
    "colab_type": "code",
    "collapsed": true,
    "id": "nqO-qs9hwnEV"
   },
   "outputs": [],
   "source": [
    "def main():\n",
    "    pop = toolbox.population(n=10)\n",
    "    stats = tools.Statistics(lambda ind: ind.fitness.values)\n",
    "    stats.register(\"avg\", numpy.mean)\n",
    "    stats.register(\"std\", numpy.std)\n",
    "    stats.register(\"min\", numpy.min)\n",
    "    stats.register(\"max\", numpy.max)\n",
    "\n",
    "    logbook = tools.Logbook()\n",
    "    logbook.header = [\"gen\", \"evals\"] + stats.fields\n",
    "\n",
    "    GEN = 100\n",
    "    best = None\n",
    "\n",
    "    for g in range(GEN):\n",
    "        for part in pop:\n",
    "            part.fitness.values = toolbox.evaluate(part)\n",
    "            if not part.best or part.best.fitness > part.fitness:\n",
    "                part.best = creator.Particle(part)\n",
    "                part.best.fitness.values = part.fitness.values\n",
    "            if not best or best.fitness > part.fitness:\n",
    "                best = creator.Particle(part)\n",
    "                best.fitness.values = part.fitness.values\n",
    "        for part in pop:\n",
    "            toolbox.update(part, best)\n",
    "\n",
    "        # Gather all the fitnesses in one list and print the stats\n",
    "        logbook.record(gen=g, evals=len(pop), **stats.compile(pop))\n",
    "        #print(logbook.stream)\n",
    "    \n",
    "    return pop, logbook, best"
   ]
  },
  {
   "cell_type": "markdown",
   "metadata": {
    "colab_type": "text",
    "id": "O_s0OjKGkQo9"
   },
   "source": [
    "Exibição dos resultados."
   ]
  },
  {
   "cell_type": "code",
   "execution_count": 10,
   "metadata": {
    "colab": {
     "base_uri": "https://localhost:8080/",
     "height": 393
    },
    "colab_type": "code",
    "executionInfo": {
     "elapsed": 1323,
     "status": "ok",
     "timestamp": 1544813354678,
     "user": {
      "displayName": "Luneque Silva Junior",
      "photoUrl": "https://lh4.googleusercontent.com/-8nOSSrEA7bY/AAAAAAAAAAI/AAAAAAAAABA/dDgYh6aYGPY/s64/photo.jpg",
      "userId": "05367922559881371579"
     },
     "user_tz": 120
    },
    "id": "hXNCi0-zwnOh",
    "outputId": "27c50c31-f4a7-4b8d-adab-a59f75906550"
   },
   "outputs": [
    {
     "name": "stdout",
     "output_type": "stream",
     "text": [
      "Best individual is: [0.05383752131002484, 0.003134461149162604]\n",
      "with fitness: (0.0029083035475029884,)\n"
     ]
    },
    {
     "data": {
      "image/png": "[encoded data removed]",
      "text/plain": [
       "<matplotlib.figure.Figure at 0x7f0742f86f98>"
      ]
     },
     "metadata": {},
     "output_type": "display_data"
    }
   ],
   "source": [
    "if __name__ == \"__main__\":\n",
    "    pop, logbook, best = main();\n",
    "    \n",
    "    print(\"Best individual is: %s\\nwith fitness: %s\" % (best, best.fitness))\n",
    "    \n",
    "    gen, avg, min_, max_ = logbook.select(\"gen\", \"avg\", \"min\", \"max\")\n",
    "    plt.plot(gen, avg, label=\"average\", linewidth=3)\n",
    "    plt.plot(gen, min_, label=\"minimum\", linewidth=3)\n",
    "    plt.plot(gen, max_, label=\"maximum\", linewidth=3)\n",
    "    plt.xlabel(\"Generation\")\n",
    "    plt.ylabel(\"Fitness\")\n",
    "    plt.legend(loc=\"upper right\")\n",
    "    plt.grid(True)\n",
    "    plt.show()"
   ]
  }
 ],
 "metadata": {
  "colab": {
   "collapsed_sections": [],
   "name": "TESTE_PSO.ipynb",
   "provenance": []
  },
  "kernelspec": {
   "display_name": "Python 3",
   "language": "python",
   "name": "python3"
  },
  "language_info": {
   "codemirror_mode": {
    "name": "ipython",
    "version": 3
   },
   "file_extension": ".py",
   "mimetype": "text/x-python",
   "name": "python",
   "nbconvert_exporter": "python",
   "pygments_lexer": "ipython3",
   "version": "3.5.2"
  }
 },
 "nbformat": 4,
 "nbformat_minor": 1
}
